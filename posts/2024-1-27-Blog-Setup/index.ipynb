{
 "cells": [
  {
   "cell_type": "raw",
   "metadata": {},
   "source": [
    "---\n",
    "title: \"How I created this Blog\"\n",
    "author: \"Abhi\"\n",
    "date: \"2024-01-27\"\n",
    "categories: [blogging, quarto, jupyter]\n",
    "image: \"image.jpg\"\n",
    "---"
   ]
  },
  {
   "cell_type": "markdown",
   "metadata": {},
   "source": [
    "Blogging is an essential part of a robust learning methodology, therefore, I decided to [follow the advice](https://medium.com/@racheltho/why-you-yes-you-should-blog-7d2544ac1045) and start my blog to document my \"Machine Learning Journey\". Here are the steps it took to create this blog.\n",
    "\n",
    "There is a [good tutorial](https://nbdev.fast.ai/tutorials/blogging.html), but honestly I found it a bit intimidating because it is not a simple step-by-step guide, also the [Creating a Blog](https://quarto.org/docs/websites/website-blog.html) page did not quite fit this category (for me). Therefore, without being an expert at this, let me share what I did to create this blog.\n",
    "\n",
    "So if your goal is to create a simple blog based on Quarto, just hop on and follow along :)."
   ]
  },
  {
   "cell_type": "markdown",
   "metadata": {},
   "source": [
    "A little side-note: This is the second blog post I write with Quarto, and by now I feel that some rough edged have been removed, mostly because I realized that really all the blogging can be done in jupyter notebook! Therefore, learning, running my own experiments and blogging happen in the same environment and with a lot of reuse. Knowing that many more things can be done, the only goal of this blog post is to get you up and running with a basic setup and explain the possibility to blog via jupyter notebooks."
   ]
  },
  {
   "cell_type": "markdown",
   "metadata": {},
   "source": [
    "## Step 1: Create a new GitHub repo\n",
    "\n",
    "Your blog will reside in a GitHub repo, and it will leverage Github Pages. Follow [steps 1 and 2](https://pages.github.com/) on the GitHub Pages homepage for the initial setup.\n",
    "\n",
    "> Note: The default recommendation for the repo is `<your username>.github.io`. I took that recommendation, but anything else should work as well.\n",
    "\n",
    "As a result you have an empty repo with just a `readme.md` file. Here's how it still looks [in my repo](https://github.com/ekshunyam/ekshunyam.github.io).\n",
    "\n",
    "For cloning the repo to my local machine, I did:\n",
    "\n",
    "```bash\n",
    "git clone git@github.com:ekshunyam/ekshunyam.github.io\n",
    "```\n",
    "\n",
    "Two final activities are needed to finalize the setup of your repo:\n",
    "\n",
    "* Create a new branch called `gh-pages`. To do this, go to your branches (for me that is <https://github.com/ekshunyam/ekshunyam.github.io/branches>), and create the new branch by clicking the \"New branch\"-button in the top right.\n",
    "* Set the new branch as the branch for GitHub Pages. In your repo, navigate to `Settings -> Pages`. (In my repo that takes me to <https://github.com/chrwittm/chrwittm.github.io/settings/pages>.) Change `main` to  `gh-pages`.\n",
    "\n",
    "> For more info on setting the branch, please refer to the [Quarto Docs](https://quarto.org/docs/publishing/github-pages.html#source-branch)."
   ]
  },
  {
   "cell_type": "markdown",
   "metadata": {},
   "source": [
    "## Step 2: Install Quarto\n",
    "\n",
    "I am currently working on a Mac M1 machine and I started using Jupyter for both blogging and development workloads.\n",
    "\n",
    "### Installing Quarto with nbdev\n",
    "\n",
    "From previous activities with nbdev, I already had Quarto installed. If I re-traced my steps correctly, here is what I did (as suggested [here](https://nbdev.fast.ai/tutorials/tutorial.html#install-nbdev) and [here](https://nbdev.fast.ai/tutorials/tutorial.html#install-quarto)):\n",
    "\n",
    "```bash\n",
    "mamba install -c fastchan nbdev\n",
    "nbdev_install_quarto\n",
    "```\n",
    "\n",
    "Optional: Once I discovered that I can do everything in jupyter, I would label this step as optional, because I only used the installation of Quarto to render previews of `.qmd`-files - which I do not need anymore when everything is done in jupyter notebooks.\n",
    "\n",
    "I also installed the [Quarto extension](https://marketplace.visualstudio.com/items?itemName=quarto.quarto) for [VS Code](https://quarto.org/docs/tools/vscode.html). just have have some flexibility interms of the IDE.\n"
   ]
  },
  {
   "cell_type": "markdown",
   "metadata": {},
   "source": [
    "## Step 3: Initial setup to publish \"Hello World\"\n",
    "\n",
    "By now we are really close to publishing the \"Hello World\"-version of our blog: In the command line, go to the directory of your repo, and run the following commands, and the example content for the Quarto blog should be published to your repo.\n",
    "\n",
    "```bash\n",
    "quarto create-project --type website:blog\n",
    "quarto publish gh-pages\n",
    "```\n",
    "\n",
    "Once done, you can open your blog at: <`https://\"your username\".github.io/`>\n",
    "\n",
    "For some more background on what is happening with these two commands, please refer to this [this page](https://quarto.org/docs/websites/website-blog.html) (choose \"Terminal\") and [this page](https://quarto.org/docs/publishing/github-pages.html#publish-command)."
   ]
  },
  {
   "cell_type": "markdown",
   "metadata": {},
   "source": [
    "## Step 4: Create your first Blog Post\n",
    "\n",
    "Now it is time to create your first own blog post.\n",
    "\n",
    "In the `posts`-directory, create a new folder, for example `hello-world`. Within this folder, create a notebook called `index.ipynb`. Add some hello-world content and a RAW-section as the first cell with this content ([here is an example](https://github.com/ekshunyam/ekshunyam.github.io/tree/main/posts/2022-10-01-hello-world)):\n",
    "\n",
    "```RAW\n",
    "---\n",
    "title: \"Hello World\"\n",
    "author: \"Your Name\"\n",
    "date: \"2022-01-01\"\n",
    "---\n",
    "```\n",
    "\n",
    "Republish your blog:\n",
    "\n",
    "```bash\n",
    "quarto publish gh-pages\n",
    "```\n",
    "\n",
    "Congratulations, you just published your [first blog post](https://ekshunyam.github.io/posts/2024-1-27-Blog-Setup/)!\n",
    "\n",
    "For a little more detailed version of the hello world blog post, please feel free to reach out."
   ]
  },
  {
   "cell_type": "markdown",
   "metadata": {},
   "source": [
    "## Step 5: Avoiding Disaster\n",
    "\n",
    "When you run `quarto publish gh-pages`, your blog posts are rendered, and the rendered versions are pushed to git in branch `gh-pages`. Your actual notebooks are **not** uploaded to GitHub. Also any config you make to the blog etc. is uploaded in the rendered versions only. So if something were to happen to your local files, your work would be lost. (Such a disaster almost happened to me but the OneDrive file history saved me.)\n",
    "\n",
    "Therefore, I would recommend to also upload the \"source\"-files to GitHub (in the main branch):\n",
    "\n",
    "```bash\n",
    "git add posts/\n",
    "git add _quarto.yml\n",
    "git add about.qmd\n",
    "git add index.qmd\n",
    "git add profile.png\n",
    "git add styles.css\n",
    "git add .gitignore\n",
    "git commit -m \"uploaded source files\"\n",
    "git push\n",
    "```\n",
    "\n",
    "As a result, the source files are also [stored on GitHub](https://github.com/ekshunyam/ekshunyam.github.io)."
   ]
  },
  {
   "cell_type": "markdown",
   "metadata": {},
   "source": [
    "## Steps 6 to n: Additional setup\n",
    "\n",
    "There are many more things that can be done with the blog, but to keep things down to basics, let me just mention a few topics which will make the blog look like your own blog.\n",
    "\n",
    "Additionally, let me mention one other blog post as a reference which I found only when looking into more detailed setup topics like comments and analytics.  Albert Rapp's blog post [The ultimate guide to starting a Quarto blog](https://albert-rapp.de/posts/13_quarto_blog_writing_guide/13_quarto_blog_writing_guide.html) truly is a great guide for setting up your Quarto blog."
   ]
  },
  {
   "cell_type": "markdown",
   "metadata": {},
   "source": [
    "### Step 6.1: Remove example content\n",
    "\n",
    "Now that the hello world blog post is published, you can remove the default content. I just turned the two example blog posts into [drafts](https://quarto.org/docs/websites/website-blog.html#drafts) by adding the following line in their headers:\n",
    "\n",
    "```\n",
    "draft: true\n",
    "```"
   ]
  },
  {
   "cell_type": "markdown",
   "metadata": {},
   "source": [
    "### Step 6.2: Update remaining example content\n",
    "\n",
    "Update the following files and add/change the content, so that the blog looks like it is your blog:\n",
    "\n",
    "```\n",
    "_quarto.yml\n",
    "about.qmd\n",
    "index.qmd\n",
    "```"
   ]
  },
  {
   "cell_type": "markdown",
   "metadata": {},
   "source": [
    "## Conclusion\n",
    "\n",
    "Setting up the blog was not really hard, but it took some time for me. Hopefully, this guide contains some shortcuts for you. Happy blogging!"
   ]
  }
 ],
 "metadata": {
  "kernelspec": {
   "display_name": "Python 3 (ipykernel)",
   "language": "python",
   "name": "python3"
  },
  "language_info": {
   "codemirror_mode": {
    "name": "ipython",
    "version": 3
   },
   "file_extension": ".py",
   "mimetype": "text/x-python",
   "name": "python",
   "nbconvert_exporter": "python",
   "pygments_lexer": "ipython3",
   "version": "3.10.12"
  },
  "vscode": {
   "interpreter": {
    "hash": "d9da906b64701e68312bc07fbc15a3a13814f930718c2c6b0e41a29d035806a3"
   }
  }
 },
 "nbformat": 4,
 "nbformat_minor": 4
}
